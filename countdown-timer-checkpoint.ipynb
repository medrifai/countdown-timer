{
 "cells": [
  {
   "cell_type": "code",
   "execution_count": 1,
   "id": "38dc952a",
   "metadata": {},
   "outputs": [
    {
     "name": "stdout",
     "output_type": "stream",
     "text": [
      "enter the length of the countdown in seconds:12\n",
      "blaast off !!!\n"
     ]
    }
   ],
   "source": [
    "import time \n",
    "t = int(input ('enter the length of the countdown in seconds:'))\n",
    "def countdown (t) :\n",
    "    while t > 0 :\n",
    "        (mins,secs) = divmod (t,60)\n",
    "        timeformat = '{:02d}:{:02d}'.format(mins,secs)\n",
    "        print (timeformat , end = '\\r' )\n",
    "        time.sleep(1)\n",
    "        t -= 1\n",
    "    \n",
    "    print ('blaast off !!!')\n",
    "countdown (t)"
   ]
  }
 ],
 "metadata": {
  "kernelspec": {
   "display_name": "Python 3 (ipykernel)",
   "language": "python",
   "name": "python3"
  },
  "language_info": {
   "codemirror_mode": {
    "name": "ipython",
    "version": 3
   },
   "file_extension": ".py",
   "mimetype": "text/x-python",
   "name": "python",
   "nbconvert_exporter": "python",
   "pygments_lexer": "ipython3",
   "version": "3.9.7"
  }
 },
 "nbformat": 4,
 "nbformat_minor": 5
}
